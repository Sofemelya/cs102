{
  "cells": [
    {
      "cell_type": "markdown",
      "metadata": {
        "id": "SpmFslc-UdW0"
      },
      "source": [
        "### Классификация\n",
        "\n",
        "Вы уже встречались с задачей классификации в работе [«Персонализация новостной ленты Hacker News»](http://127.0.0.1:4000/2017/11/22/06-hackernews/). В общем виде задачу классификации можно представить следующим образом: имеется множество объектов, которые разделены на классы по некоторым признакам. Например, успевающие студенты и отстающие студенты. В обучающей выборке задано конечное множество объектов и их признаков. Например, перечень всех студентов учебного заведения и все оценки по прошедшим и текущим дисциплинам. Для каждого из объектов обучающей выборки известно, к каким классам они относятся. Принадлежность же остальных объектов к классам неизвестна. Требуется построить алгоритм, способный классифицировать произвольный объект из исходного множества, то есть указать наименование (или номер) класса, к которому объект отнесён в результате применения алгоритма классификации."
      ]
    },
    {
      "cell_type": "markdown",
      "metadata": {
        "id": "9paqCuHmowT9"
      },
      "source": [
        "### *Логистическая регрессия*\n",
        "\n",
        "Давайте рассмотрим логистическую регрессию на примере набора данных цветов ириса.\n",
        "\n",
        "Для простоты будем использовать только два признака `Sepal Width` и `Sepal Length`, а также два класса `Setosa` и `Versicolor`:"
      ]
    },
    {
      "cell_type": "code",
      "execution_count": 27,
      "metadata": {
        "id": "Cv2EQj08UgId"
      },
      "outputs": [],
      "source": [
        "import math\n",
        "import pandas as pd\n",
        "import numpy as np\n",
        "import matplotlib.pyplot as plt\n",
        "import seaborn as sns\n",
        "from sklearn import datasets\n",
        "from sklearn.metrics import roc_curve, auc, accuracy_score, confusion_matrix\n",
        "from sklearn.model_selection import train_test_split\n",
        "from sklearn.datasets import make_classification\n",
        "import scipy\n",
        "%matplotlib inline"
      ]
    },
    {
      "cell_type": "code",
      "execution_count": 4,
      "metadata": {
        "colab": {
          "base_uri": "https://localhost:8080/",
          "height": 282
        },
        "id": "OF3xriTor7qE",
        "outputId": "922b2021-d3b0-4077-b56a-a393056a21d8"
      },
      "outputs": [],
      "source": [
        "data = datasets.load_iris()\n",
        "X = data.data[:100, :2]\n",
        "y = data.target[:100]"
      ]
    },
    {
      "cell_type": "code",
      "execution_count": 5,
      "metadata": {},
      "outputs": [],
      "source": [
        "class LogRegression:\n",
        "    def __init__(self, lr=0.01, n_iter=100):\n",
        "        self.lr = lr\n",
        "        self.n_iter = n_iter\n",
        "        \n",
        "    def fit(self, X, y):\n",
        "        X = np.hstack([np.ones((len(X), 1)), X])\n",
        "        self.theta = np.zeros(X.shape[1])\n",
        "        for i in range(self.n_iter):\n",
        "            z = X @ self.theta\n",
        "            p =  1 / (1 + np.exp(-z))\n",
        "            gradient = (X.T @ (p - y)) / len(y)\n",
        "            self.theta -= self.lr * gradient\n",
        "\n",
        "        \n",
        "    def predict(self, X):\n",
        "        X = np.hstack([np.ones((len(X), 1)), X])\n",
        "        pred = (1 / (1 + np.exp(-(X @ self.theta))))\n",
        "        return [1 if i > 0.5 else 0 for i in pred]\n",
        "\n",
        "    def predict_proba(self, X):\n",
        "      prob = self.sigmoid(X)\n",
        "      scipy.special.expit(prob, out=prob)\n",
        "      if prob.ndim == 1:\n",
        "          return np.vstack([1 - prob, prob]).T\n",
        "      else:\n",
        "          prob /= prob.sum(axis=1).reshape((prob.shape[0], -1))\n",
        "          return prob\n",
        "\n",
        "    def sigmoid(self, x):\n",
        "      return 1.0 / (1 + np.exp(-x))"
      ]
    },
    {
      "cell_type": "code",
      "execution_count": 14,
      "metadata": {},
      "outputs": [
        {
          "data": {
            "text/plain": [
              "29"
            ]
          },
          "execution_count": 14,
          "metadata": {},
          "output_type": "execute_result"
        }
      ],
      "source": [
        "X_train, X_test, y_train, y_test = train_test_split(X, y, test_size=0.3, random_state=17)\n",
        "model = LogRegression()\n",
        "model.fit(X_train, y_train)\n",
        "y_pred = model.predict(X_test)\n",
        "sum(y_test == y_pred)"
      ]
    },
    {
      "cell_type": "code",
      "execution_count": 16,
      "metadata": {},
      "outputs": [
        {
          "data": {
            "text/plain": [
              "array([-0.02262618,  0.12559568, -0.20109839])"
            ]
          },
          "execution_count": 16,
          "metadata": {},
          "output_type": "execute_result"
        }
      ],
      "source": [
        "model.theta"
      ]
    },
    {
      "cell_type": "code",
      "execution_count": 19,
      "metadata": {
        "colab": {
          "base_uri": "https://localhost:8080/"
        },
        "id": "Jyo8wMbvwZPz",
        "outputId": "9807e205-56f3-4249-f798-cd305fe96143"
      },
      "outputs": [
        {
          "data": {
            "text/plain": [
              "0.9666666666666667"
            ]
          },
          "execution_count": 19,
          "metadata": {},
          "output_type": "execute_result"
        }
      ],
      "source": [
        "accuracy_score(y_test, y_pred)"
      ]
    },
    {
      "cell_type": "code",
      "execution_count": 20,
      "metadata": {
        "id": "QExfZ9K5yLO2"
      },
      "outputs": [],
      "source": [
        "def plot_roc_curve(y_pred, y_test):\n",
        "    fpr, tpr, _ = roc_curve(y_test, y_pred)\n",
        "    roc_auc = auc(fpr, tpr)\n",
        "    plt.figure()\n",
        "    plt.plot(fpr, tpr, color='darkorange', lw=2, label='ROC curve (area = %0.2f)' % roc_auc)\n",
        "    plt.plot([0, 1], [0, 1], color='navy', lw=2, linestyle='--')\n",
        "    plt.xlim([0.0, 1.0])\n",
        "    plt.ylim([0.0, 1.05])\n",
        "    plt.xlabel('False Positive Rate')\n",
        "    plt.ylabel('True Positive Rate')\n",
        "    plt.title('ROC Curve')\n",
        "    plt.legend(loc=\"lower right\")\n",
        "    plt.show()\n",
        "\n",
        "y_pred_probs = model.predict_proba(X_test)[:,1]"
      ]
    },
    {
      "cell_type": "code",
      "execution_count": 21,
      "metadata": {
        "colab": {
          "base_uri": "https://localhost:8080/",
          "height": 295
        },
        "id": "4fg_-ihRw6zO",
        "outputId": "2177e4eb-b242-4c5b-a36c-d2f4981f0cc1"
      },
      "outputs": [
        {
          "data": {
            "image/png": "[encoded data removed]",
            "text/plain": [
              "<Figure size 432x288 with 1 Axes>"
            ]
          },
          "metadata": {
            "needs_background": "light"
          },
          "output_type": "display_data"
        }
      ],
      "source": [
        "plot_roc_curve(y_pred, y_test)"
      ]
    },
    {
      "cell_type": "markdown",
      "metadata": {
        "id": "Zm0sJ4ez9d2p"
      },
      "source": [
        "Проверим на случайных данных:"
      ]
    },
    {
      "cell_type": "code",
      "execution_count": 23,
      "metadata": {
        "id": "qvAs6C0R9Z7i"
      },
      "outputs": [],
      "source": [
        "X, y = make_classification(n_samples=10000, n_features=10, n_classes=2, n_informative=5, random_state=17)\n",
        "X_train, X_test, y_train, y_test = train_test_split(X, y, test_size=0.3, random_state=17)\n",
        "\n",
        "model = LogRegression()\n",
        "model.fit(X_train, y_train)\n",
        "y_pred = model.predict(X_test)"
      ]
    },
    {
      "cell_type": "code",
      "execution_count": 24,
      "metadata": {
        "colab": {
          "base_uri": "https://localhost:8080/"
        },
        "id": "qNVPRPUJ9g-4",
        "outputId": "de8e8f3f-ab7c-40be-8938-abb0644b3cb3"
      },
      "outputs": [
        {
          "data": {
            "text/plain": [
              "2283"
            ]
          },
          "execution_count": 24,
          "metadata": {},
          "output_type": "execute_result"
        }
      ],
      "source": [
        "sum(y_test == y_pred) # 2306"
      ]
    },
    {
      "cell_type": "code",
      "execution_count": 25,
      "metadata": {
        "colab": {
          "base_uri": "https://localhost:8080/"
        },
        "id": "osgYgEJl-S5g",
        "outputId": "dc939337-700d-43cb-9733-47a67b7995ec"
      },
      "outputs": [
        {
          "data": {
            "text/plain": [
              "0.761"
            ]
          },
          "execution_count": 25,
          "metadata": {},
          "output_type": "execute_result"
        }
      ],
      "source": [
        "accuracy_score(y_test, y_pred)"
      ]
    },
    {
      "cell_type": "code",
      "execution_count": 28,
      "metadata": {
        "colab": {
          "base_uri": "https://localhost:8080/"
        },
        "id": "3ZvVFE3P-rTf",
        "outputId": "b4597968-d58a-4c62-cc9e-39772619a1cd"
      },
      "outputs": [
        {
          "data": {
            "text/plain": [
              "array([[ 928,  564],\n",
              "       [ 153, 1355]])"
            ]
          },
          "execution_count": 28,
          "metadata": {},
          "output_type": "execute_result"
        }
      ],
      "source": [
        "confusion_matrix(y_test, y_pred)"
      ]
    },
    {
      "cell_type": "code",
      "execution_count": 29,
      "metadata": {
        "colab": {
          "base_uri": "https://localhost:8080/",
          "height": 295
        },
        "id": "NyJs5WPr-upU",
        "outputId": "3affb21c-3f2b-41c8-c250-d6e9b77199e9"
      },
      "outputs": [
        {
          "data": {
            "image/png": "[encoded data removed]",
            "text/plain": [
              "<Figure size 432x288 with 1 Axes>"
            ]
          },
          "metadata": {
            "needs_background": "light"
          },
          "output_type": "display_data"
        }
      ],
      "source": [
        "def plot_roc_curve(y_pred, y_test):\n",
        "    fpr, tpr, _ = roc_curve(y_test, y_pred)\n",
        "    roc_auc = auc(fpr, tpr)\n",
        "    plt.figure()\n",
        "    plt.plot(fpr, tpr, color='darkorange', lw=2, label='ROC curve (area = %0.2f)' % roc_auc)\n",
        "    plt.plot([0, 1], [0, 1], color='navy', lw=2, linestyle='--')\n",
        "    plt.xlim([0.0, 1.0])\n",
        "    plt.ylim([0.0, 1.05])\n",
        "    plt.xlabel('False Positive Rate')\n",
        "    plt.ylabel('True Positive Rate')\n",
        "    plt.title('ROC Curve')\n",
        "    plt.legend(loc=\"lower right\")\n",
        "    plt.show()\n",
        "\n",
        "y_pred = model.predict_proba(X_test)[:,1]\n",
        "plot_roc_curve(y_pred, y_test)"
      ]
    }
  ],
  "metadata": {
    "colab": {
      "name": "LogisticRegression Таиров K3143.ipynb",
      "provenance": []
    },
    "interpreter": {
      "hash": "d805a9e6373947f65b005a1a540d1a2cb7a270651d8f9d5136ec2aa0e124bfaa"
    },
    "kernelspec": {
      "display_name": "Python 3.8.9 64-bit ('cs102': virtualenvwrapper)",
      "name": "python3"
    },
    "language_info": {
      "codemirror_mode": {
        "name": "ipython",
        "version": 3
      },
      "file_extension": ".py",
      "mimetype": "text/x-python",
      "name": "python",
      "nbconvert_exporter": "python",
      "pygments_lexer": "ipython3",
      "version": "3.8.9"
    }
  },
  "nbformat": 4,
  "nbformat_minor": 0
}