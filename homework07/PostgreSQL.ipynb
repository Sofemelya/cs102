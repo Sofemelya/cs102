{
 "cells": [
  {
   "cell_type": "markdown",
   "metadata": {},
   "source": [
    "# Первичный анализ данных с PostgreSQL"
   ]
  },
  {
   "cell_type": "code",
   "execution_count": 1,
   "metadata": {},
   "outputs": [],
   "source": [
    "import psycopg2\n",
    "import psycopg2.extras\n",
    "from pprint import pprint as pp\n",
    "from tabulate import tabulate\n",
    "\n",
    "\n",
    "conn = psycopg2.connect(\"host=127.0.0.1 port=5432 dbname=adult_data user=postgres password=z12x34c43v21\")\n",
    "cursor = conn.cursor() # cursor_factory=psycopg2.extras.DictCursor)\n",
    "\n",
    "def fetch_all(cursor):\n",
    "    colnames = [desc[0] for desc in cursor.description]\n",
    "    records = cursor.fetchall()\n",
    "    return [{colname:value for colname, value in zip(colnames, record)} for record in records]"
   ]
  },
  {
   "cell_type": "markdown",
   "metadata": {},
   "source": [
    "1. Сколько мужчин и женщин (признак sex) представлено в этом наборе данных?"
   ]
  },
  {
   "cell_type": "code",
   "execution_count": 2,
   "metadata": {},
   "outputs": [
    {
     "name": "stdout",
     "output_type": "stream",
     "text": [
      "+--------+---------+\n",
      "| sex    |   count |\n",
      "|--------+---------|\n",
      "| Female |   10771 |\n",
      "| Male   |   21790 |\n",
      "+--------+---------+ \n",
      "\n"
     ]
    }
   ],
   "source": [
    "cursor.execute(\n",
    "    \"\"\"\n",
    "    SELECT sex, COUNT(*)\n",
    "        FROM adult_data\n",
    "        GROUP BY sex\n",
    "    \"\"\"\n",
    ")\n",
    "print(tabulate(fetch_all(cursor), \"keys\", \"psql\"), \"\\n\")"
   ]
  },
  {
   "cell_type": "markdown",
   "metadata": {},
   "source": [
    "2. Каков средний возраст (признак age) женщин?"
   ]
  },
  {
   "cell_type": "code",
   "execution_count": 3,
   "metadata": {},
   "outputs": [
    {
     "name": "stdout",
     "output_type": "stream",
     "text": [
      "+---------+\n",
      "|     avg |\n",
      "|---------|\n",
      "| 36.8582 |\n",
      "+---------+\n"
     ]
    }
   ],
   "source": [
    "cursor.execute(\"\"\"\n",
    "    SELECT AVG(age) FROM adult_data WHERE sex = 'Female'\n",
    "\"\"\")\n",
    "print(tabulate(fetch_all(cursor), \"keys\", \"psql\"))"
   ]
  },
  {
   "cell_type": "markdown",
   "metadata": {},
   "source": [
    "3. Какова доля граждан Германии (признак native-country)?"
   ]
  },
  {
   "cell_type": "code",
   "execution_count": 4,
   "metadata": {},
   "outputs": [
    {
     "name": "stdout",
     "output_type": "stream",
     "text": [
      "+------------------+----------+\n",
      "| native_country   |    round |\n",
      "|------------------+----------|\n",
      "| Germany          | 0.004207 |\n",
      "+------------------+----------+\n"
     ]
    }
   ],
   "source": [
    "cursor.execute(\n",
    "    \"\"\"\n",
    "    SELECT native_country, ROUND((COUNT(*) / (SELECT COUNT(*) FROM adult_data)::numeric), 6)\n",
    "        FROM adult_data WHERE native_country = 'Germany'\n",
    "        GROUP BY native_country;\n",
    "    \"\"\"\n",
    ")\n",
    "print(tabulate(fetch_all(cursor), \"keys\", \"psql\"))"
   ]
  },
  {
   "cell_type": "markdown",
   "metadata": {},
   "source": [
    "4-5. Каковы средние значения и среднеквадратичные отклонения возраста тех, \n",
    "кто получает более 50K в год (признак salary) и тех, кто получает менее 50K в год?"
   ]
  },
  {
   "cell_type": "code",
   "execution_count": 5,
   "metadata": {},
   "outputs": [
    {
     "name": "stdout",
     "output_type": "stream",
     "text": [
      "+---------+---------+----------+\n",
      "|   count |     avg |   stddev |\n",
      "|---------+---------+----------|\n",
      "|    7841 | 44.2498 |  10.519  |\n",
      "|   24720 | 36.7837 |  14.0201 |\n",
      "+---------+---------+----------+\n"
     ]
    }
   ],
   "source": [
    "cursor.execute(\"\"\"\n",
    "    SELECT COUNT(*),\n",
    "           AVG(age), STDDEV(age)\n",
    "    FROM adult_data\n",
    "    GROUP BY salary\n",
    "\"\"\")\n",
    "print(tabulate(fetch_all(cursor), \"keys\", \"psql\"))"
   ]
  },
  {
   "cell_type": "markdown",
   "metadata": {},
   "source": [
    "6. Правда ли, что люди, которые получают больше 50k, имеют как минимум высшее образование? \n",
    "(признак education – Bachelors, Prof-school, Assoc-acdm, Assoc-voc, Masters или Doctorate)"
   ]
  },
  {
   "cell_type": "code",
   "execution_count": 6,
   "metadata": {},
   "outputs": [
    {
     "name": "stdout",
     "output_type": "stream",
     "text": [
      "+--------------+----------+---------+\n",
      "| education    | salary   |   count |\n",
      "|--------------+----------+---------|\n",
      "| Doctorate    | >50K     |     306 |\n",
      "| Prof-school  | <=50K    |     153 |\n",
      "| 9th          | >50K     |      27 |\n",
      "| 12th         | >50K     |      33 |\n",
      "| Bachelors    | >50K     |    2221 |\n",
      "| Masters      | <=50K    |     764 |\n",
      "| Masters      | >50K     |     959 |\n",
      "| Assoc-acdm   | >50K     |     265 |\n",
      "| 5th-6th      | <=50K    |     317 |\n",
      "| 5th-6th      | >50K     |      16 |\n",
      "| 1st-4th      | >50K     |       6 |\n",
      "| Some-college | >50K     |    1387 |\n",
      "| HS-grad      | <=50K    |    8826 |\n",
      "| 9th          | <=50K    |     487 |\n",
      "| Assoc-voc    | <=50K    |    1021 |\n",
      "| Some-college | <=50K    |    5904 |\n",
      "| 11th         | <=50K    |    1115 |\n",
      "| Preschool    | <=50K    |      51 |\n",
      "| 11th         | >50K     |      60 |\n",
      "| 7th-8th      | <=50K    |     606 |\n",
      "| 12th         | <=50K    |     400 |\n",
      "| 10th         | <=50K    |     871 |\n",
      "| HS-grad      | >50K     |    1675 |\n",
      "| 10th         | >50K     |      62 |\n",
      "| 1st-4th      | <=50K    |     162 |\n",
      "| Bachelors    | <=50K    |    3134 |\n",
      "| Doctorate    | <=50K    |     107 |\n",
      "| 7th-8th      | >50K     |      40 |\n",
      "| Assoc-voc    | >50K     |     361 |\n",
      "| Prof-school  | >50K     |     423 |\n",
      "| Assoc-acdm   | <=50K    |     802 |\n",
      "+--------------+----------+---------+\n"
     ]
    }
   ],
   "source": [
    "cursor.execute(\"\"\"\n",
    "    SELECT education, salary, COUNT(*) FROM adult_data\n",
    "    GROUP BY education, salary\n",
    "\"\"\")\n",
    "print(tabulate(fetch_all(cursor), \"keys\", \"psql\"))"
   ]
  },
  {
   "cell_type": "markdown",
   "metadata": {},
   "source": [
    "7. Выведите статистику возраста для каждой расы (признак race) и каждого пола. \n",
    "Используйте groupby и describe. Найдите таким образом максимальный возраст мужчин расы Amer-Indian-Eskimo."
   ]
  },
  {
   "cell_type": "code",
   "execution_count": 7,
   "metadata": {},
   "outputs": [
    {
     "name": "stdout",
     "output_type": "stream",
     "text": [
      "+---------+---------+----------+-------+-------+\n",
      "|   count |     avg |   stddev |   min |   max |\n",
      "|---------+---------+----------+-------+-------|\n",
      "|    1555 | 37.854  |  12.6372 |    17 |    90 |\n",
      "|     346 | 35.0896 |  12.3008 |    17 |    75 |\n",
      "|     119 | 37.1176 |  13.115  |    17 |    80 |\n",
      "|     109 | 31.6789 |  11.6316 |    17 |    74 |\n",
      "|    8642 | 36.8116 |  14.3291 |    17 |    90 |\n",
      "+---------+---------+----------+-------+-------+\n",
      "+---------+---------+----------+-------+-------+\n",
      "|   count |     avg |   stddev |   min |   max |\n",
      "|---------+---------+----------+-------+-------|\n",
      "|    1569 | 37.6826 |  12.8826 |    17 |    90 |\n",
      "|     693 | 39.0736 |  12.8839 |    18 |    90 |\n",
      "|     162 | 34.6543 |  11.3555 |    17 |    77 |\n",
      "|     192 | 37.2083 |  12.0496 |    17 |    82 |\n",
      "|   19174 | 39.6525 |  13.436  |    17 |    90 |\n",
      "+---------+---------+----------+-------+-------+\n",
      "+---------+---------+----------+-------+-------+\n",
      "|   count |     avg |   stddev |   min |   max |\n",
      "|---------+---------+----------+-------+-------|\n",
      "|     192 | 37.2083 |  12.0496 |    17 |    82 |\n",
      "+---------+---------+----------+-------+-------+\n"
     ]
    }
   ],
   "source": [
    "cursor.execute(\"\"\"\n",
    "    SELECT COUNT(*),\n",
    "           AVG(age), STDDEV(age), MIN(age), MAX(age)\n",
    "    FROM adult_data WHERE sex = 'Female'\n",
    "    GROUP BY race\n",
    "\"\"\")\n",
    "print(tabulate(fetch_all(cursor), \"keys\", \"psql\"))\n",
    "\n",
    "cursor.execute(\"\"\"\n",
    "    SELECT COUNT(*),\n",
    "           AVG(age), STDDEV(age), MIN(age), MAX(age)\n",
    "    FROM adult_data WHERE sex = 'Male'\n",
    "    GROUP BY race\n",
    "\"\"\")\n",
    "print(tabulate(fetch_all(cursor), \"keys\", \"psql\"))\n",
    "\n",
    "cursor.execute(\"\"\"\n",
    "    SELECT COUNT(*),\n",
    "           AVG(age), STDDEV(age), MIN(age), MAX(age)\n",
    "    FROM adult_data WHERE sex = 'Male' AND race = 'Amer-Indian-Eskimo'\n",
    "    GROUP BY race\n",
    "\"\"\")\n",
    "print(tabulate(fetch_all(cursor), \"keys\", \"psql\"))"
   ]
  },
  {
   "cell_type": "markdown",
   "metadata": {},
   "source": [
    "8. Среди кого больше доля зарабатывающих много (>50K): среди женатых или холостых мужчин (признак marital-status)? \n",
    "Женатыми считаем тех, у кого marital-status начинается с Married (Married-civ-spouse, Married-spouse-absent или Married-AF-spouse), остальных считаем холостыми."
   ]
  },
  {
   "cell_type": "code",
   "execution_count": 8,
   "metadata": {},
   "outputs": [
    {
     "name": "stdout",
     "output_type": "stream",
     "text": [
      "+-----------------------+----------+---------+\n",
      "| marital_status        | salary   |   count |\n",
      "|-----------------------+----------+---------|\n",
      "| Married-spouse-absent | >50K     |      23 |\n",
      "| Divorced              | >50K     |     284 |\n",
      "| Married-AF-spouse     | >50K     |       4 |\n",
      "| Never-married         | >50K     |     325 |\n",
      "| Married-civ-spouse    | >50K     |    5938 |\n",
      "| Separated             | >50K     |      49 |\n",
      "| Widowed               | >50K     |      39 |\n",
      "+-----------------------+----------+---------+\n"
     ]
    }
   ],
   "source": [
    "cursor.execute(\"\"\"\n",
    "    SELECT marital_status, salary, COUNT(*) FROM adult_data WHERE sex = 'Male' AND salary = '>50K'\n",
    "    GROUP BY marital_status, salary\n",
    "\"\"\")\n",
    "print(tabulate(fetch_all(cursor), \"keys\", \"psql\"))"
   ]
  },
  {
   "cell_type": "markdown",
   "metadata": {},
   "source": [
    "9. Какое максимальное число часов человек работает в неделю (признак hours-per-week)? \n",
    "Сколько людей работают такое количество часов и каков среди них процент зарабатывающих много?"
   ]
  },
  {
   "cell_type": "code",
   "execution_count": 9,
   "metadata": {},
   "outputs": [
    {
     "name": "stdout",
     "output_type": "stream",
     "text": [
      "+-------+\n",
      "|   max |\n",
      "|-------|\n",
      "|    99 |\n",
      "+-------+\n",
      "+----------+---------+\n",
      "| salary   |   count |\n",
      "|----------+---------|\n",
      "| <=50K    |      60 |\n",
      "| >50K     |      25 |\n",
      "+----------+---------+\n",
      "+------------------+----------+---------+\n",
      "|   hours_per_week | salary   |   count |\n",
      "|------------------+----------+---------|\n",
      "|               99 | <=50K    |      60 |\n",
      "|               99 | >50K     |      25 |\n",
      "+------------------+----------+---------+\n"
     ]
    }
   ],
   "source": [
    "cursor.execute(\"SELECT MAX(hours_per_week::int) FROM adult_data\")\n",
    "print(tabulate(fetch_all(cursor), \"keys\", \"psql\"))\n",
    "\n",
    "cursor.execute(\n",
    "    \"\"\"\n",
    "    SELECT salary, COUNT(*)\n",
    "        FROM adult_data WHERE hours_per_week = 99\n",
    "        GROUP BY salary\n",
    "    \"\"\"\n",
    ")\n",
    "print(tabulate(fetch_all(cursor), \"keys\", \"psql\"))\n",
    "\n",
    "cursor.execute(\"\"\"\n",
    "    SELECT hours_per_week, salary, COUNT(*) FROM adult_data WHERE hours_per_week = 99\n",
    "    GROUP BY hours_per_week, salary\n",
    "\"\"\")\n",
    "print(tabulate(fetch_all(cursor), \"keys\", \"psql\"))"
   ]
  },
  {
   "cell_type": "markdown",
   "metadata": {},
   "source": [
    "10. Посчитайте среднее время работы (hours-per-week) зарабатывающих мало и много (salary) для каждой страны (native-country)."
   ]
  },
  {
   "cell_type": "code",
   "execution_count": 10,
   "metadata": {},
   "outputs": [
    {
     "name": "stdout",
     "output_type": "stream",
     "text": [
      "+----------------------------+----------+---------+\n",
      "| native_country             | salary   |     avg |\n",
      "|----------------------------+----------+---------|\n",
      "| Vietnam                    | <=50K    | 37.1935 |\n",
      "| Japan                      | >50K     | 47.9583 |\n",
      "| Canada                     | <=50K    | 37.9146 |\n",
      "| ?                          | >50K     | 45.5479 |\n",
      "| Trinadad&Tobago            | <=50K    | 37.0588 |\n",
      "| Italy                      | >50K     | 45.4    |\n",
      "| United-States              | >50K     | 45.5054 |\n",
      "| Nicaragua                  | >50K     | 37.5    |\n",
      "| El-Salvador                | <=50K    | 36.0309 |\n",
      "| Hong                       | <=50K    | 39.1429 |\n",
      "| Mexico                     | <=50K    | 40.0033 |\n",
      "| Honduras                   | >50K     | 60      |\n",
      "| Poland                     | >50K     | 39      |\n",
      "| Mexico                     | >50K     | 46.5758 |\n",
      "| China                      | <=50K    | 37.3818 |\n",
      "| Dominican-Republic         | >50K     | 47      |\n",
      "| Thailand                   | >50K     | 58.3333 |\n",
      "| Iran                       | <=50K    | 41.44   |\n",
      "| Germany                    | >50K     | 44.9773 |\n",
      "| Japan                      | <=50K    | 41      |\n",
      "| Vietnam                    | >50K     | 39.2    |\n",
      "| ?                          | <=50K    | 40.1648 |\n",
      "| Peru                       | <=50K    | 35.069  |\n",
      "| Taiwan                     | <=50K    | 33.7742 |\n",
      "| Cuba                       | >50K     | 42.44   |\n",
      "| Holand-Netherlands         | <=50K    | 40      |\n",
      "| El-Salvador                | >50K     | 45      |\n",
      "| Peru                       | >50K     | 40      |\n",
      "| Thailand                   | <=50K    | 42.8667 |\n",
      "| Yugoslavia                 | <=50K    | 41.6    |\n",
      "| Haiti                      | <=50K    | 36.325  |\n",
      "| Greece                     | >50K     | 50.625  |\n",
      "| Philippines                | >50K     | 43.0328 |\n",
      "| Scotland                   | >50K     | 46.6667 |\n",
      "| Columbia                   | >50K     | 50      |\n",
      "| England                    | >50K     | 44.5333 |\n",
      "| Iran                       | >50K     | 47.5    |\n",
      "| Puerto-Rico                | <=50K    | 38.4706 |\n",
      "| Trinadad&Tobago            | >50K     | 40      |\n",
      "| Ecuador                    | <=50K    | 38.0417 |\n",
      "| South                      | >50K     | 51.4375 |\n",
      "| Germany                    | <=50K    | 39.1398 |\n",
      "| Hungary                    | >50K     | 50      |\n",
      "| Outlying-US(Guam-USVI-etc) | <=50K    | 41.8571 |\n",
      "| Italy                      | <=50K    | 39.625  |\n",
      "| England                    | <=50K    | 40.4833 |\n",
      "| Jamaica                    | >50K     | 41.1    |\n",
      "| China                      | >50K     | 38.9    |\n",
      "| India                      | >50K     | 46.475  |\n",
      "| Ireland                    | <=50K    | 40.9474 |\n",
      "| Puerto-Rico                | >50K     | 39.4167 |\n",
      "| Jamaica                    | <=50K    | 38.2394 |\n",
      "| Philippines                | <=50K    | 38.0657 |\n",
      "| Columbia                   | <=50K    | 38.6842 |\n",
      "| Hungary                    | <=50K    | 31.3    |\n",
      "| Greece                     | <=50K    | 41.8095 |\n",
      "| Portugal                   | >50K     | 41.5    |\n",
      "| Cambodia                   | >50K     | 40      |\n",
      "| Haiti                      | >50K     | 42.75   |\n",
      "| Honduras                   | <=50K    | 34.3333 |\n",
      "| France                     | <=50K    | 41.0588 |\n",
      "| Poland                     | <=50K    | 38.1667 |\n",
      "| Hong                       | >50K     | 45      |\n",
      "| Nicaragua                  | <=50K    | 36.0938 |\n",
      "| Ireland                    | >50K     | 48      |\n",
      "| United-States              | <=50K    | 38.7991 |\n",
      "| India                      | <=50K    | 38.2333 |\n",
      "| Cuba                       | <=50K    | 37.9857 |\n",
      "| Scotland                   | <=50K    | 39.4444 |\n",
      "| Portugal                   | <=50K    | 41.9394 |\n",
      "| Dominican-Republic         | <=50K    | 42.3382 |\n",
      "| Cambodia                   | <=50K    | 41.4167 |\n",
      "| Guatemala                  | >50K     | 36.6667 |\n",
      "| Guatemala                  | <=50K    | 39.3607 |\n",
      "| Laos                       | >50K     | 40      |\n",
      "| South                      | <=50K    | 40.1562 |\n",
      "| Ecuador                    | >50K     | 48.75   |\n",
      "| Yugoslavia                 | >50K     | 49.5    |\n",
      "| Laos                       | <=50K    | 40.375  |\n",
      "| Canada                     | >50K     | 45.641  |\n",
      "| France                     | >50K     | 50.75   |\n",
      "| Taiwan                     | >50K     | 46.8    |\n",
      "+----------------------------+----------+---------+\n"
     ]
    }
   ],
   "source": [
    "cursor.execute(\n",
    "\"\"\"\n",
    "SELECT native_country, salary, AVG(hours_per_week)\n",
    "FROM adult_data\n",
    "GROUP BY native_country, salary\n",
    "\"\"\"\n",
    ")\n",
    "print(tabulate(fetch_all(cursor), \"keys\", \"psql\"))"
   ]
  }
 ],
 "metadata": {
  "kernelspec": {
   "display_name": "Python 3",
   "language": "python",
   "name": "python3"
  },
  "language_info": {
   "codemirror_mode": {
    "name": "ipython",
    "version": 3
   },
   "file_extension": ".py",
   "mimetype": "text/x-python",
   "name": "python",
   "nbconvert_exporter": "python",
   "pygments_lexer": "ipython3",
   "version": "3.7.1"
  }
 },
 "nbformat": 4,
 "nbformat_minor": 2
}
