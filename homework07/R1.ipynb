{
 "cells": [
  {
   "cell_type": "markdown",
   "metadata": {},
   "source": [
    "# Первичный анализ данных с R"
   ]
  },
  {
   "cell_type": "code",
   "execution_count": 1,
   "metadata": {},
   "outputs": [],
   "source": [
    "df <- read.csv('adult.data.csv')"
   ]
  },
  {
   "cell_type": "markdown",
   "metadata": {},
   "source": [
    "1. Сколько мужчин и женщин (признак sex) представлено в этом наборе данных?"
   ]
  },
  {
   "cell_type": "code",
   "execution_count": 2,
   "metadata": {},
   "outputs": [
    {
     "data": {
      "text/plain": [
       "\n",
       "Female   Male \n",
       " 10771  21790 "
      ]
     },
     "metadata": {},
     "output_type": "display_data"
    }
   ],
   "source": [
    "table(df$sex)"
   ]
  },
  {
   "cell_type": "markdown",
   "metadata": {},
   "source": [
    "2. Каков средний возраст (признак age) женщин?"
   ]
  },
  {
   "cell_type": "code",
   "execution_count": 3,
   "metadata": {},
   "outputs": [
    {
     "data": {
      "text/html": [
       "36.8582304335716"
      ],
      "text/latex": [
       "36.8582304335716"
      ],
      "text/markdown": [
       "36.8582304335716"
      ],
      "text/plain": [
       "[1] 36.85823"
      ]
     },
     "metadata": {},
     "output_type": "display_data"
    }
   ],
   "source": [
    "mean(df[df['sex'] == 'Female', 'age'])"
   ]
  },
  {
   "cell_type": "markdown",
   "metadata": {},
   "source": [
    "3. Какова доля граждан Германии (признак native-country)?"
   ]
  },
  {
   "cell_type": "code",
   "execution_count": 4,
   "metadata": {},
   "outputs": [
    {
     "data": {
      "text/html": [
       "<strong>Germany:</strong> 0.0042074874850281"
      ],
      "text/latex": [
       "\\textbf{Germany:} 0.0042074874850281"
      ],
      "text/markdown": [
       "**Germany:** 0.0042074874850281"
      ],
      "text/plain": [
       "    Germany \n",
       "0.004207487 "
      ]
     },
     "metadata": {},
     "output_type": "display_data"
    }
   ],
   "source": [
    "prop.table(table(df$native.country))['Germany']"
   ]
  },
  {
   "cell_type": "markdown",
   "metadata": {},
   "source": [
    "4-5. Каковы средние значения и среднеквадратичные отклонения возраста тех, \n",
    "кто получает более 50K в год (признак salary) и тех, кто получает менее 50K в год?"
   ]
  },
  {
   "cell_type": "code",
   "execution_count": 5,
   "metadata": {},
   "outputs": [
    {
     "name": "stderr",
     "output_type": "stream",
     "text": [
      "Warning message:\n",
      "\"package 'dplyr' was built under R version 3.5.3\"\n",
      "Attaching package: 'dplyr'\n",
      "\n",
      "The following objects are masked from 'package:stats':\n",
      "\n",
      "    filter, lag\n",
      "\n",
      "The following objects are masked from 'package:base':\n",
      "\n",
      "    intersect, setdiff, setequal, union\n",
      "\n"
     ]
    },
    {
     "data": {
      "text/html": [
       "<table>\n",
       "<thead><tr><th scope=col>salary</th><th scope=col>n</th><th scope=col>mean</th><th scope=col>std</th></tr></thead>\n",
       "<tbody>\n",
       "\t<tr><td>&lt;=50K</td><td>24720   </td><td>36.78374</td><td>14.02009</td></tr>\n",
       "\t<tr><td>&gt;50K </td><td> 7841   </td><td>44.24984</td><td>10.51903</td></tr>\n",
       "</tbody>\n",
       "</table>\n"
      ],
      "text/latex": [
       "\\begin{tabular}{r|llll}\n",
       " salary & n & mean & std\\\\\n",
       "\\hline\n",
       "\t <=50K    & 24720    & 36.78374 & 14.02009\\\\\n",
       "\t >50K     &  7841    & 44.24984 & 10.51903\\\\\n",
       "\\end{tabular}\n"
      ],
      "text/markdown": [
       "\n",
       "salary | n | mean | std | \n",
       "|---|---|\n",
       "| <=50K    | 24720    | 36.78374 | 14.02009 | \n",
       "| >50K     |  7841    | 44.24984 | 10.51903 | \n",
       "\n",
       "\n"
      ],
      "text/plain": [
       "  salary n     mean     std     \n",
       "1 <=50K  24720 36.78374 14.02009\n",
       "2 >50K    7841 44.24984 10.51903"
      ]
     },
     "metadata": {},
     "output_type": "display_data"
    }
   ],
   "source": [
    "library(dplyr)\n",
    "df %>% group_by(salary) %>%\n",
    "  summarise(n = n(),\n",
    "            mean = mean(age),\n",
    "            std = sd(age))"
   ]
  },
  {
   "cell_type": "markdown",
   "metadata": {},
   "source": [
    "6. Правда ли, что люди, которые получают больше 50k, имеют как минимум высшее образование? \n",
    "(признак education – Bachelors, Prof-school, Assoc-acdm, Assoc-voc, Masters или Doctorate)"
   ]
  },
  {
   "cell_type": "code",
   "execution_count": 6,
   "metadata": {},
   "outputs": [
    {
     "data": {
      "text/plain": [
       "              \n",
       "               <=50K >50K\n",
       "  10th           871   62\n",
       "  11th          1115   60\n",
       "  12th           400   33\n",
       "  1st-4th        162    6\n",
       "  5th-6th        317   16\n",
       "  7th-8th        606   40\n",
       "  9th            487   27\n",
       "  Assoc-acdm     802  265\n",
       "  Assoc-voc     1021  361\n",
       "  Bachelors     3134 2221\n",
       "  Doctorate      107  306\n",
       "  HS-grad       8826 1675\n",
       "  Masters        764  959\n",
       "  Preschool       51    0\n",
       "  Prof-school    153  423\n",
       "  Some-college  5904 1387"
      ]
     },
     "metadata": {},
     "output_type": "display_data"
    },
    {
     "data": {
      "text/html": [
       "<table>\n",
       "<thead><tr><th></th><th scope=col>&lt;=50K</th><th scope=col>&gt;50K</th><th scope=col>Sum</th></tr></thead>\n",
       "<tbody>\n",
       "\t<tr><th scope=row>10th</th><td>  871</td><td>  62 </td><td>  933</td></tr>\n",
       "\t<tr><th scope=row>11th</th><td> 1115</td><td>  60 </td><td> 1175</td></tr>\n",
       "\t<tr><th scope=row>12th</th><td>  400</td><td>  33 </td><td>  433</td></tr>\n",
       "\t<tr><th scope=row>1st-4th</th><td>  162</td><td>   6 </td><td>  168</td></tr>\n",
       "\t<tr><th scope=row>5th-6th</th><td>  317</td><td>  16 </td><td>  333</td></tr>\n",
       "\t<tr><th scope=row>7th-8th</th><td>  606</td><td>  40 </td><td>  646</td></tr>\n",
       "\t<tr><th scope=row>9th</th><td>  487</td><td>  27 </td><td>  514</td></tr>\n",
       "\t<tr><th scope=row>Assoc-acdm</th><td>  802</td><td> 265 </td><td> 1067</td></tr>\n",
       "\t<tr><th scope=row>Assoc-voc</th><td> 1021</td><td> 361 </td><td> 1382</td></tr>\n",
       "\t<tr><th scope=row>Bachelors</th><td> 3134</td><td>2221 </td><td> 5355</td></tr>\n",
       "\t<tr><th scope=row>Doctorate</th><td>  107</td><td> 306 </td><td>  413</td></tr>\n",
       "\t<tr><th scope=row>HS-grad</th><td> 8826</td><td>1675 </td><td>10501</td></tr>\n",
       "\t<tr><th scope=row>Masters</th><td>  764</td><td> 959 </td><td> 1723</td></tr>\n",
       "\t<tr><th scope=row>Preschool</th><td>   51</td><td>   0 </td><td>   51</td></tr>\n",
       "\t<tr><th scope=row>Prof-school</th><td>  153</td><td> 423 </td><td>  576</td></tr>\n",
       "\t<tr><th scope=row>Some-college</th><td> 5904</td><td>1387 </td><td> 7291</td></tr>\n",
       "\t<tr><th scope=row>Sum</th><td>24720</td><td>7841 </td><td>32561</td></tr>\n",
       "</tbody>\n",
       "</table>\n"
      ],
      "text/latex": [
       "\\begin{tabular}{r|lll}\n",
       "  & <=50K & >50K & Sum\\\\\n",
       "\\hline\n",
       "\t10th &   871 &   62  &   933\\\\\n",
       "\t11th &  1115 &   60  &  1175\\\\\n",
       "\t12th &   400 &   33  &   433\\\\\n",
       "\t1st-4th &   162 &    6  &   168\\\\\n",
       "\t5th-6th &   317 &   16  &   333\\\\\n",
       "\t7th-8th &   606 &   40  &   646\\\\\n",
       "\t9th &   487 &   27  &   514\\\\\n",
       "\tAssoc-acdm &   802 &  265  &  1067\\\\\n",
       "\tAssoc-voc &  1021 &  361  &  1382\\\\\n",
       "\tBachelors &  3134 & 2221  &  5355\\\\\n",
       "\tDoctorate &   107 &  306  &   413\\\\\n",
       "\tHS-grad &  8826 & 1675  & 10501\\\\\n",
       "\tMasters &   764 &  959  &  1723\\\\\n",
       "\tPreschool &    51 &    0  &    51\\\\\n",
       "\tProf-school &   153 &  423  &   576\\\\\n",
       "\tSome-college &  5904 & 1387  &  7291\\\\\n",
       "\tSum & 24720 & 7841  & 32561\\\\\n",
       "\\end{tabular}\n"
      ],
      "text/markdown": [
       "\n",
       "| <!--/--> | <=50K | >50K | Sum | \n",
       "|---|---|---|---|---|---|---|---|---|---|---|---|---|---|---|---|---|\n",
       "| 10th |   871 |   62  |   933 | \n",
       "| 11th |  1115 |   60  |  1175 | \n",
       "| 12th |   400 |   33  |   433 | \n",
       "| 1st-4th |   162 |    6  |   168 | \n",
       "| 5th-6th |   317 |   16  |   333 | \n",
       "| 7th-8th |   606 |   40  |   646 | \n",
       "| 9th |   487 |   27  |   514 | \n",
       "| Assoc-acdm |   802 |  265  |  1067 | \n",
       "| Assoc-voc |  1021 |  361  |  1382 | \n",
       "| Bachelors |  3134 | 2221  |  5355 | \n",
       "| Doctorate |   107 |  306  |   413 | \n",
       "| HS-grad |  8826 | 1675  | 10501 | \n",
       "| Masters |   764 |  959  |  1723 | \n",
       "| Preschool |    51 |    0  |    51 | \n",
       "| Prof-school |   153 |  423  |   576 | \n",
       "| Some-college |  5904 | 1387  |  7291 | \n",
       "| Sum | 24720 | 7841  | 32561 | \n",
       "\n",
       "\n"
      ],
      "text/plain": [
       "              \n",
       "               <=50K >50K Sum  \n",
       "  10th           871   62   933\n",
       "  11th          1115   60  1175\n",
       "  12th           400   33   433\n",
       "  1st-4th        162    6   168\n",
       "  5th-6th        317   16   333\n",
       "  7th-8th        606   40   646\n",
       "  9th            487   27   514\n",
       "  Assoc-acdm     802  265  1067\n",
       "  Assoc-voc     1021  361  1382\n",
       "  Bachelors     3134 2221  5355\n",
       "  Doctorate      107  306   413\n",
       "  HS-grad       8826 1675 10501\n",
       "  Masters        764  959  1723\n",
       "  Preschool       51    0    51\n",
       "  Prof-school    153  423   576\n",
       "  Some-college  5904 1387  7291\n",
       "  Sum          24720 7841 32561"
      ]
     },
     "metadata": {},
     "output_type": "display_data"
    },
    {
     "data": {
      "text/plain": [
       "              \n",
       "                      <=50K         >50K\n",
       "  10th         0.0267497927 0.0019041184\n",
       "  11th         0.0342434200 0.0018426952\n",
       "  12th         0.0122846350 0.0010134824\n",
       "  1st-4th      0.0049752772 0.0001842695\n",
       "  5th-6th      0.0097355732 0.0004913854\n",
       "  7th-8th      0.0186112220 0.0012284635\n",
       "  9th          0.0149565431 0.0008292129\n",
       "  Assoc-acdm   0.0246306932 0.0081385707\n",
       "  Assoc-voc    0.0313565308 0.0110868831\n",
       "  Bachelors    0.0962501152 0.0682104358\n",
       "  Doctorate    0.0032861399 0.0093977458\n",
       "  HS-grad      0.2710604711 0.0514419090\n",
       "  Masters      0.0234636528 0.0294524124\n",
       "  Preschool    0.0015662910 0.0000000000\n",
       "  Prof-school  0.0046988729 0.0129910015\n",
       "  Some-college 0.1813212125 0.0425969718"
      ]
     },
     "metadata": {},
     "output_type": "display_data"
    }
   ],
   "source": [
    "table(df$education, df$salary)\n",
    "addmargins(table(df$education, df$salary))\n",
    "prop.table(table(df$education, df$salary))"
   ]
  },
  {
   "cell_type": "markdown",
   "metadata": {},
   "source": [
    "7. Выведите статистику возраста для каждой расы (признак race) и каждого пола.\n",
    "Используйте groupby и describe. Найдите таким образом максимальный возраст мужчин расы Amer-Indian-Eskimo."
   ]
  },
  {
   "cell_type": "code",
   "execution_count": 7,
   "metadata": {},
   "outputs": [
    {
     "name": "stdout",
     "output_type": "stream",
     "text": [
      "[1] White\n",
      "Levels: Amer-Indian-Eskimo Asian-Pac-Islander Black Other White\n",
      "   Min. 1st Qu.  Median    Mean 3rd Qu.    Max. \n",
      "  17.00   29.00   38.00   39.65   49.00   90.00 \n",
      "   Min. 1st Qu.  Median    Mean 3rd Qu.    Max. \n",
      "  17.00   25.00   35.00   36.81   46.00   90.00 \n",
      "[1] Black\n",
      "Levels: Amer-Indian-Eskimo Asian-Pac-Islander Black Other White\n",
      "   Min. 1st Qu.  Median    Mean 3rd Qu.    Max. \n",
      "  17.00   27.00   36.00   37.68   46.00   90.00 \n",
      "   Min. 1st Qu.  Median    Mean 3rd Qu.    Max. \n",
      "  17.00   28.00   37.00   37.85   46.00   90.00 \n",
      "[1] Asian-Pac-Islander\n",
      "Levels: Amer-Indian-Eskimo Asian-Pac-Islander Black Other White\n",
      "   Min. 1st Qu.  Median    Mean 3rd Qu.    Max. \n",
      "  18.00   29.00   37.00   39.07   46.00   90.00 \n",
      "   Min. 1st Qu.  Median    Mean 3rd Qu.    Max. \n",
      "  17.00   25.00   33.00   35.09   43.75   75.00 \n",
      "[1] Amer-Indian-Eskimo\n",
      "Levels: Amer-Indian-Eskimo Asian-Pac-Islander Black Other White\n",
      "   Min. 1st Qu.  Median    Mean 3rd Qu.    Max. \n",
      "  17.00   28.00   35.00   37.21   45.00   82.00 \n",
      "   Min. 1st Qu.  Median    Mean 3rd Qu.    Max. \n",
      "  17.00   27.00   36.00   37.12   46.00   80.00 \n",
      "[1] Other\n",
      "Levels: Amer-Indian-Eskimo Asian-Pac-Islander Black Other White\n",
      "   Min. 1st Qu.  Median    Mean 3rd Qu.    Max. \n",
      "  17.00   26.00   32.00   34.65   42.00   77.00 \n",
      "   Min. 1st Qu.  Median    Mean 3rd Qu.    Max. \n",
      "  17.00   23.00   29.00   31.68   39.00   74.00 \n"
     ]
    }
   ],
   "source": [
    "races = unique(df$race)\n",
    "len = length(races)\n",
    "for(i in 1:len){\n",
    "\tresult1 = summary(df[df$sex == 'Male' & df$race == races[i], 'age'])\n",
    "\tresult2 = summary(df[df$sex == 'Female' & df$race == races[i], 'age'])\n",
    "\tprint(races[i])\n",
    "\tprint(result1)\n",
    "\tprint(result2)\n",
    "}"
   ]
  },
  {
   "cell_type": "code",
   "execution_count": 8,
   "metadata": {},
   "outputs": [
    {
     "data": {
      "text/plain": [
       "   Min. 1st Qu.  Median    Mean 3rd Qu.    Max. \n",
       "  17.00   28.00   35.00   37.21   45.00   82.00 "
      ]
     },
     "metadata": {},
     "output_type": "display_data"
    }
   ],
   "source": [
    "summary(df[df$sex == 'Male' & df$race == \"Amer-Indian-Eskimo\", 'age'])"
   ]
  },
  {
   "cell_type": "markdown",
   "metadata": {},
   "source": [
    "8. Среди кого больше доля зарабатывающих много (>50K): среди женатых или холостых мужчин (признак marital-status)?\n",
    "Женатыми считаем тех, у кого marital-status начинается с Married (Married-civ-spouse, Married-spouse-absent или Married-AF-spouse), остальных считаем холостыми"
   ]
  },
  {
   "cell_type": "code",
   "execution_count": 9,
   "metadata": {},
   "outputs": [
    {
     "data": {
      "text/plain": [
       "                       \n",
       "                        <=50K >50K\n",
       "  Divorced               1487  284\n",
       "  Married-AF-spouse         5    4\n",
       "  Married-civ-spouse     7381 5938\n",
       "  Married-spouse-absent   190   23\n",
       "  Never-married          5591  325\n",
       "  Separated               345   49\n",
       "  Widowed                 129   39"
      ]
     },
     "metadata": {},
     "output_type": "display_data"
    },
    {
     "data": {
      "text/html": [
       "<table>\n",
       "<thead><tr><th></th><th scope=col>&lt;=50K</th><th scope=col>&gt;50K</th><th scope=col>Sum</th></tr></thead>\n",
       "<tbody>\n",
       "\t<tr><th scope=row>Divorced</th><td> 1487</td><td> 284 </td><td> 1771</td></tr>\n",
       "\t<tr><th scope=row>Married-AF-spouse</th><td>    5</td><td>   4 </td><td>    9</td></tr>\n",
       "\t<tr><th scope=row>Married-civ-spouse</th><td> 7381</td><td>5938 </td><td>13319</td></tr>\n",
       "\t<tr><th scope=row>Married-spouse-absent</th><td>  190</td><td>  23 </td><td>  213</td></tr>\n",
       "\t<tr><th scope=row>Never-married</th><td> 5591</td><td> 325 </td><td> 5916</td></tr>\n",
       "\t<tr><th scope=row>Separated</th><td>  345</td><td>  49 </td><td>  394</td></tr>\n",
       "\t<tr><th scope=row>Widowed</th><td>  129</td><td>  39 </td><td>  168</td></tr>\n",
       "\t<tr><th scope=row>Sum</th><td>15128</td><td>6662 </td><td>21790</td></tr>\n",
       "</tbody>\n",
       "</table>\n"
      ],
      "text/latex": [
       "\\begin{tabular}{r|lll}\n",
       "  & <=50K & >50K & Sum\\\\\n",
       "\\hline\n",
       "\tDivorced &  1487 &  284  &  1771\\\\\n",
       "\tMarried-AF-spouse &     5 &    4  &     9\\\\\n",
       "\tMarried-civ-spouse &  7381 & 5938  & 13319\\\\\n",
       "\tMarried-spouse-absent &   190 &   23  &   213\\\\\n",
       "\tNever-married &  5591 &  325  &  5916\\\\\n",
       "\tSeparated &   345 &   49  &   394\\\\\n",
       "\tWidowed &   129 &   39  &   168\\\\\n",
       "\tSum & 15128 & 6662  & 21790\\\\\n",
       "\\end{tabular}\n"
      ],
      "text/markdown": [
       "\n",
       "| <!--/--> | <=50K | >50K | Sum | \n",
       "|---|---|---|---|---|---|---|---|\n",
       "| Divorced |  1487 |  284  |  1771 | \n",
       "| Married-AF-spouse |     5 |    4  |     9 | \n",
       "| Married-civ-spouse |  7381 | 5938  | 13319 | \n",
       "| Married-spouse-absent |   190 |   23  |   213 | \n",
       "| Never-married |  5591 |  325  |  5916 | \n",
       "| Separated |   345 |   49  |   394 | \n",
       "| Widowed |   129 |   39  |   168 | \n",
       "| Sum | 15128 | 6662  | 21790 | \n",
       "\n",
       "\n"
      ],
      "text/plain": [
       "                       \n",
       "                        <=50K >50K Sum  \n",
       "  Divorced               1487  284  1771\n",
       "  Married-AF-spouse         5    4     9\n",
       "  Married-civ-spouse     7381 5938 13319\n",
       "  Married-spouse-absent   190   23   213\n",
       "  Never-married          5591  325  5916\n",
       "  Separated               345   49   394\n",
       "  Widowed                 129   39   168\n",
       "  Sum                   15128 6662 21790"
      ]
     },
     "metadata": {},
     "output_type": "display_data"
    },
    {
     "data": {
      "text/plain": [
       "                       \n",
       "                               <=50K         >50K\n",
       "  Divorced              0.0682423130 0.0130335016\n",
       "  Married-AF-spouse     0.0002294631 0.0001835704\n",
       "  Married-civ-spouse    0.3387333639 0.2725103258\n",
       "  Married-spouse-absent 0.0087195961 0.0010555301\n",
       "  Never-married         0.2565855897 0.0149150987\n",
       "  Separated             0.0158329509 0.0022487380\n",
       "  Widowed               0.0059201469 0.0017898118"
      ]
     },
     "metadata": {},
     "output_type": "display_data"
    }
   ],
   "source": [
    "data<- subset(df, df$sex == 'Male',select = c('sex',\"marital.status\",\"salary\"))\n",
    "table(data$marital.status, data$salary)\n",
    "addmargins(table(data$marital.status, data$salary))\n",
    "prop.table(table(data$marital.status, data$salary))"
   ]
  },
  {
   "cell_type": "markdown",
   "metadata": {},
   "source": [
    "9. Какое максимальное число часов человек работает в неделю (признак hours-per-week)? \n",
    "Сколько людей работают такое количество часов и каков среди них процент зарабатывающих много?"
   ]
  },
  {
   "cell_type": "code",
   "execution_count": 10,
   "metadata": {},
   "outputs": [
    {
     "data": {
      "text/html": [
       "99"
      ],
      "text/latex": [
       "99"
      ],
      "text/markdown": [
       "99"
      ],
      "text/plain": [
       "[1] 99"
      ]
     },
     "metadata": {},
     "output_type": "display_data"
    },
    {
     "data": {
      "text/plain": [
       "       \n",
       "        <=50K  >50K\n",
       "  FALSE 24660  7816\n",
       "  TRUE     60    25"
      ]
     },
     "metadata": {},
     "output_type": "display_data"
    },
    {
     "data": {
      "text/html": [
       "<table>\n",
       "<thead><tr><th></th><th scope=col>&lt;=50K</th><th scope=col>&gt;50K</th><th scope=col>Sum</th></tr></thead>\n",
       "<tbody>\n",
       "\t<tr><th scope=row>FALSE</th><td>24660</td><td>7816 </td><td>32476</td></tr>\n",
       "\t<tr><th scope=row>TRUE</th><td>   60</td><td>  25 </td><td>   85</td></tr>\n",
       "\t<tr><th scope=row>Sum</th><td>24720</td><td>7841 </td><td>32561</td></tr>\n",
       "</tbody>\n",
       "</table>\n"
      ],
      "text/latex": [
       "\\begin{tabular}{r|lll}\n",
       "  & <=50K & >50K & Sum\\\\\n",
       "\\hline\n",
       "\tFALSE & 24660 & 7816  & 32476\\\\\n",
       "\tTRUE &    60 &   25  &    85\\\\\n",
       "\tSum & 24720 & 7841  & 32561\\\\\n",
       "\\end{tabular}\n"
      ],
      "text/markdown": [
       "\n",
       "| <!--/--> | <=50K | >50K | Sum | \n",
       "|---|---|---|\n",
       "| FALSE | 24660 | 7816  | 32476 | \n",
       "| TRUE |    60 |   25  |    85 | \n",
       "| Sum | 24720 | 7841  | 32561 | \n",
       "\n",
       "\n"
      ],
      "text/plain": [
       "       \n",
       "        <=50K >50K Sum  \n",
       "  FALSE 24660 7816 32476\n",
       "  TRUE     60   25    85\n",
       "  Sum   24720 7841 32561"
      ]
     },
     "metadata": {},
     "output_type": "display_data"
    },
    {
     "data": {
      "text/plain": [
       "       \n",
       "               <=50K         >50K\n",
       "  FALSE 0.7573477473 0.2400417678\n",
       "  TRUE  0.0018426952 0.0007677897"
      ]
     },
     "metadata": {},
     "output_type": "display_data"
    }
   ],
   "source": [
    "max(df$hours.per.week)\n",
    "\n",
    "table(df$hours.per.week == 99, df$salary)\n",
    "addmargins(table(df$hours.per.week == 99, df$salary))\n",
    "prop.table(table(df$hours.per.week == 99, df$salary))"
   ]
  },
  {
   "cell_type": "markdown",
   "metadata": {},
   "source": [
    "10. Посчитайте среднее время работы (hours-per-week) зарабатывающих мало и много (salary) для каждой страны (native-country)."
   ]
  },
  {
   "cell_type": "code",
   "execution_count": 11,
   "metadata": {},
   "outputs": [
    {
     "name": "stdout",
     "output_type": "stream",
     "text": [
      "[1] United-States\n",
      "42 Levels: ? Cambodia Canada China Columbia Cuba Dominican-Republic ... Yugoslavia\n",
      "[1] 45.50537\n",
      "[1] 38.79913\n",
      "[1] Cuba\n",
      "42 Levels: ? Cambodia Canada China Columbia Cuba Dominican-Republic ... Yugoslavia\n",
      "[1] 42.44\n",
      "[1] 37.98571\n",
      "[1] Jamaica\n",
      "42 Levels: ? Cambodia Canada China Columbia Cuba Dominican-Republic ... Yugoslavia\n",
      "[1] 41.1\n",
      "[1] 38.23944\n",
      "[1] India\n",
      "42 Levels: ? Cambodia Canada China Columbia Cuba Dominican-Republic ... Yugoslavia\n",
      "[1] 46.475\n",
      "[1] 38.23333\n",
      "[1] ?\n",
      "42 Levels: ? Cambodia Canada China Columbia Cuba Dominican-Republic ... Yugoslavia\n",
      "[1] 45.54795\n",
      "[1] 40.16476\n",
      "[1] Mexico\n",
      "42 Levels: ? Cambodia Canada China Columbia Cuba Dominican-Republic ... Yugoslavia\n",
      "[1] 46.57576\n",
      "[1] 40.00328\n",
      "[1] South\n",
      "42 Levels: ? Cambodia Canada China Columbia Cuba Dominican-Republic ... Yugoslavia\n",
      "[1] 51.4375\n",
      "[1] 40.15625\n",
      "[1] Puerto-Rico\n",
      "42 Levels: ? Cambodia Canada China Columbia Cuba Dominican-Republic ... Yugoslavia\n",
      "[1] 39.41667\n",
      "[1] 38.47059\n",
      "[1] Honduras\n",
      "42 Levels: ? Cambodia Canada China Columbia Cuba Dominican-Republic ... Yugoslavia\n",
      "[1] 60\n",
      "[1] 34.33333\n",
      "[1] England\n",
      "42 Levels: ? Cambodia Canada China Columbia Cuba Dominican-Republic ... Yugoslavia\n",
      "[1] 44.53333\n",
      "[1] 40.48333\n",
      "[1] Canada\n",
      "42 Levels: ? Cambodia Canada China Columbia Cuba Dominican-Republic ... Yugoslavia\n",
      "[1] 45.64103\n",
      "[1] 37.91463\n",
      "[1] Germany\n",
      "42 Levels: ? Cambodia Canada China Columbia Cuba Dominican-Republic ... Yugoslavia\n",
      "[1] 44.97727\n",
      "[1] 39.13978\n",
      "[1] Iran\n",
      "42 Levels: ? Cambodia Canada China Columbia Cuba Dominican-Republic ... Yugoslavia\n",
      "[1] 47.5\n",
      "[1] 41.44\n",
      "[1] Philippines\n",
      "42 Levels: ? Cambodia Canada China Columbia Cuba Dominican-Republic ... Yugoslavia\n",
      "[1] 43.03279\n",
      "[1] 38.06569\n",
      "[1] Italy\n",
      "42 Levels: ? Cambodia Canada China Columbia Cuba Dominican-Republic ... Yugoslavia\n",
      "[1] 45.4\n",
      "[1] 39.625\n",
      "[1] Poland\n",
      "42 Levels: ? Cambodia Canada China Columbia Cuba Dominican-Republic ... Yugoslavia\n",
      "[1] 39\n",
      "[1] 38.16667\n",
      "[1] Columbia\n",
      "42 Levels: ? Cambodia Canada China Columbia Cuba Dominican-Republic ... Yugoslavia\n",
      "[1] 50\n",
      "[1] 38.68421\n",
      "[1] Cambodia\n",
      "42 Levels: ? Cambodia Canada China Columbia Cuba Dominican-Republic ... Yugoslavia\n",
      "[1] 40\n",
      "[1] 41.41667\n",
      "[1] Thailand\n",
      "42 Levels: ? Cambodia Canada China Columbia Cuba Dominican-Republic ... Yugoslavia\n",
      "[1] 58.33333\n",
      "[1] 42.86667\n",
      "[1] Ecuador\n",
      "42 Levels: ? Cambodia Canada China Columbia Cuba Dominican-Republic ... Yugoslavia\n",
      "[1] 48.75\n",
      "[1] 38.04167\n",
      "[1] Laos\n",
      "42 Levels: ? Cambodia Canada China Columbia Cuba Dominican-Republic ... Yugoslavia\n",
      "[1] 40\n",
      "[1] 40.375\n",
      "[1] Taiwan\n",
      "42 Levels: ? Cambodia Canada China Columbia Cuba Dominican-Republic ... Yugoslavia\n",
      "[1] 46.8\n",
      "[1] 33.77419\n",
      "[1] Haiti\n",
      "42 Levels: ? Cambodia Canada China Columbia Cuba Dominican-Republic ... Yugoslavia\n",
      "[1] 42.75\n",
      "[1] 36.325\n",
      "[1] Portugal\n",
      "42 Levels: ? Cambodia Canada China Columbia Cuba Dominican-Republic ... Yugoslavia\n",
      "[1] 41.5\n",
      "[1] 41.93939\n",
      "[1] Dominican-Republic\n",
      "42 Levels: ? Cambodia Canada China Columbia Cuba Dominican-Republic ... Yugoslavia\n",
      "[1] 47\n",
      "[1] 42.33824\n",
      "[1] El-Salvador\n",
      "42 Levels: ? Cambodia Canada China Columbia Cuba Dominican-Republic ... Yugoslavia\n",
      "[1] 45\n",
      "[1] 36.03093\n",
      "[1] France\n",
      "42 Levels: ? Cambodia Canada China Columbia Cuba Dominican-Republic ... Yugoslavia\n",
      "[1] 50.75\n",
      "[1] 41.05882\n",
      "[1] Guatemala\n",
      "42 Levels: ? Cambodia Canada China Columbia Cuba Dominican-Republic ... Yugoslavia\n",
      "[1] 36.66667\n",
      "[1] 39.36066\n",
      "[1] China\n",
      "42 Levels: ? Cambodia Canada China Columbia Cuba Dominican-Republic ... Yugoslavia\n",
      "[1] 38.9\n",
      "[1] 37.38182\n",
      "[1] Japan\n",
      "42 Levels: ? Cambodia Canada China Columbia Cuba Dominican-Republic ... Yugoslavia\n",
      "[1] 47.95833\n",
      "[1] 41\n",
      "[1] Yugoslavia\n",
      "42 Levels: ? Cambodia Canada China Columbia Cuba Dominican-Republic ... Yugoslavia\n",
      "[1] 49.5\n",
      "[1] 41.6\n",
      "[1] Peru\n",
      "42 Levels: ? Cambodia Canada China Columbia Cuba Dominican-Republic ... Yugoslavia\n",
      "[1] 40\n",
      "[1] 35.06897\n",
      "[1] Outlying-US(Guam-USVI-etc)\n",
      "42 Levels: ? Cambodia Canada China Columbia Cuba Dominican-Republic ... Yugoslavia\n",
      "[1] NaN\n",
      "[1] 41.85714\n",
      "[1] Scotland\n",
      "42 Levels: ? Cambodia Canada China Columbia Cuba Dominican-Republic ... Yugoslavia\n",
      "[1] 46.66667\n",
      "[1] 39.44444\n",
      "[1] Trinadad&Tobago\n",
      "42 Levels: ? Cambodia Canada China Columbia Cuba Dominican-Republic ... Yugoslavia\n",
      "[1] 40\n",
      "[1] 37.05882\n",
      "[1] Greece\n",
      "42 Levels: ? Cambodia Canada China Columbia Cuba Dominican-Republic ... Yugoslavia\n",
      "[1] 50.625\n",
      "[1] 41.80952\n",
      "[1] Nicaragua\n",
      "42 Levels: ? Cambodia Canada China Columbia Cuba Dominican-Republic ... Yugoslavia\n",
      "[1] 37.5\n",
      "[1] 36.09375\n",
      "[1] Vietnam\n",
      "42 Levels: ? Cambodia Canada China Columbia Cuba Dominican-Republic ... Yugoslavia\n",
      "[1] 39.2\n",
      "[1] 37.19355\n",
      "[1] Hong\n",
      "42 Levels: ? Cambodia Canada China Columbia Cuba Dominican-Republic ... Yugoslavia\n",
      "[1] 45\n",
      "[1] 39.14286\n",
      "[1] Ireland\n",
      "42 Levels: ? Cambodia Canada China Columbia Cuba Dominican-Republic ... Yugoslavia\n",
      "[1] 48\n",
      "[1] 40.94737\n",
      "[1] Hungary\n",
      "42 Levels: ? Cambodia Canada China Columbia Cuba Dominican-Republic ... Yugoslavia\n",
      "[1] 50\n",
      "[1] 31.3\n",
      "[1] Holand-Netherlands\n",
      "42 Levels: ? Cambodia Canada China Columbia Cuba Dominican-Republic ... Yugoslavia\n",
      "[1] NaN\n",
      "[1] 40\n"
     ]
    }
   ],
   "source": [
    "countries = unique(df$native.country)\n",
    "len = length(countries)\n",
    "for(i in 1:len){\n",
    "\tresult1 = mean(df$hours.per.week[df$salary == '>50K' & df$native.country == countries[i]])\n",
    "\tresult2 = mean(df$hours.per.week[df$salary == '<=50K' & df$native.country == countries[i]])\n",
    "\tprint(countries[i])\n",
    "\tprint(result1)\n",
    "\tprint(result2)\n",
    "}"
   ]
  }
 ],
 "metadata": {
  "kernelspec": {
   "display_name": "R",
   "language": "R",
   "name": "ir"
  },
  "language_info": {
   "codemirror_mode": "r",
   "file_extension": ".r",
   "mimetype": "text/x-r-source",
   "name": "R",
   "pygments_lexer": "r",
   "version": "3.5.1"
  }
 },
 "nbformat": 4,
 "nbformat_minor": 2
}
